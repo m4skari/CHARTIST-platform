{
 "cells": [
  {
   "cell_type": "code",
   "execution_count": 28,
   "metadata": {},
   "outputs": [
    {
     "name": "stdout",
     "output_type": "stream",
     "text": [
      "Timestamps have been converted and saved to 'processed_data.json'.\n"
     ]
    }
   ],
   "source": [
    "import json\n",
    "from datetime import datetime\n",
    "\n",
    "def convert_timestamps_in_json(json_data):\n",
    "    # Helper function to convert a single Unix timestamp\n",
    "    def convert_timestamp(timestamp_ms):\n",
    "        timestamp_s = timestamp_ms / 1000\n",
    "        dt_object = datetime.fromtimestamp(timestamp_s)\n",
    "        return dt_object.strftime('%Y-%m-%d %H:%M:%S')  # Convert to string\n",
    "    \n",
    "    # Iterate through the JSON data and replace timestamps\n",
    "    for entry in json_data:\n",
    "        if 'soundcloudLog' in entry and 'logTime' in entry['soundcloudLog']:\n",
    "            timestamp_ms = entry['soundcloudLog']['logTime']\n",
    "            # Replace the timestamp with the converted datetime string\n",
    "            entry['soundcloudLog']['logTime'] = convert_timestamp(timestamp_ms)\n",
    "    \n",
    "    return json_data\n",
    "\n",
    "# Load JSON file\n",
    "with open('soundcloudLogs.json', 'r') as file:\n",
    "    json_data = json.load(file)\n",
    "\n",
    "# Convert timestamps\n",
    "processed_data = convert_timestamps_in_json(json_data)\n",
    "\n",
    "# Save the processed data to a new JSON file\n",
    "with open('processed_data.json', 'w') as file:\n",
    "    json.dump(processed_data, file, indent=4)\n",
    "\n",
    "print(\"Timestamps have been converted and saved to 'processed_data.json'.\")\n"
   ]
  },
  {
   "cell_type": "code",
   "execution_count": 5,
   "metadata": {},
   "outputs": [],
   "source": [
    "import json\n",
    "import matplotlib.pyplot as plt\n",
    "\n",
    "# Function to group logs by track name and collect counts over time\n",
    "def group_logs_and_collect_counts(data):\n",
    "    grouped_logs = {}\n",
    "    for item in data:\n",
    "        name = item.get('name', 'Unknown')\n",
    "        log = item.get('soundcloudLog', {})\n",
    "        if name not in grouped_logs:\n",
    "            grouped_logs[name] = []\n",
    "        grouped_logs[name].append(log)\n",
    "    \n",
    "    # Sort logs by logTime and extract counts\n",
    "    counts_by_name = {}\n",
    "    for name, logs in grouped_logs.items():\n",
    "        logs.sort(key=lambda x: x['logTime'])\n",
    "        counts_by_name[name] = [log['counts'] for log in logs]\n",
    "    \n",
    "    return counts_by_name\n",
    "\n"
   ]
  },
  {
   "cell_type": "code",
   "execution_count": 38,
   "metadata": {},
   "outputs": [
    {
     "data": {
      "text/plain": [
       "'\\nfor name, counts in counts_by_name.items():\\n    log_times = [log_time for log_time, _ in counts]\\n    log_counts = [count for _, count in counts]\\n    plt.figure(figsize=(10, 5))\\n    plt.plot(log_times, log_counts, marker=\\'o\\')\\n    plt.title(f\"Counts over Time for \\'{name}\\'\")\\n    plt.xlabel(\"Log Time\")\\n    plt.ylabel(\"Counts\")\\n    plt.grid(True)\\n    plt.xticks(rotation=45)\\n    plt.tight_layout()\\n    plt.show()\\n\\n'"
      ]
     },
     "execution_count": 38,
     "metadata": {},
     "output_type": "execute_result"
    }
   ],
   "source": [
    "\n",
    "# Load the JSON data from a file\n",
    "with open('soundcloudLogs.json', 'r') as file:\n",
    "    data = json.load(file)\n",
    "\n",
    "# Function to group logs by track name and collect counts over time\n",
    "def group_logs_and_collect_counts(data):\n",
    "    grouped_logs = {}\n",
    "    for item in data:\n",
    "        name = item.get('name', 'Unknown')\n",
    "        log = item.get('soundcloudLog', {})\n",
    "        if name not in grouped_logs:\n",
    "            grouped_logs[name] = []\n",
    "        grouped_logs[name].append(log)\n",
    "    \n",
    "    # Sort logs by logTime and extract counts\n",
    "    counts_by_name = {}\n",
    "    for name, logs in grouped_logs.items():\n",
    "        logs.sort(key=lambda x: x['logTime'])\n",
    "        counts_by_name[name] = [(log['logTime'], log['counts']) for log in logs]\n",
    "    \n",
    "    return counts_by_name\n",
    "\n",
    "# Group logs and collect counts\n",
    "counts_by_name = group_logs_and_collect_counts(data)\n",
    "\n",
    "# Plot counts for each song\n",
    "'''\n",
    "for name, counts in counts_by_name.items():\n",
    "    log_times = [log_time for log_time, _ in counts]\n",
    "    log_counts = [count for _, count in counts]\n",
    "    plt.figure(figsize=(10, 5))\n",
    "    plt.plot(log_times, log_counts, marker='o')\n",
    "    plt.title(f\"Counts over Time for '{name}'\")\n",
    "    plt.xlabel(\"Log Time\")\n",
    "    plt.ylabel(\"Counts\")\n",
    "    plt.grid(True)\n",
    "    plt.xticks(rotation=45)\n",
    "    plt.tight_layout()\n",
    "    plt.show()\n",
    "\n",
    "'''\n",
    "\n",
    "    "
   ]
  },
  {
   "cell_type": "markdown",
   "metadata": {},
   "source": [
    "## LSTM"
   ]
  },
  {
   "cell_type": "code",
   "execution_count": 143,
   "metadata": {},
   "outputs": [],
   "source": [
    "from tensorflow.keras.layers import Input\n",
    "\n",
    "def lstm_predict(counts, steps=1):\n",
    "    count_values = np.array([count for _, count in counts])\n",
    "    scaler = MinMaxScaler(feature_range=(0, 1))\n",
    "    count_values_scaled = scaler.fit_transform(count_values.reshape(-1, 1))\n",
    "    \n",
    "    X, y = [], []\n",
    "    for i in range(len(count_values_scaled)-1):\n",
    "        X.append(count_values_scaled[i])\n",
    "        y.append(count_values_scaled[i + 1])\n",
    "    \n",
    "    X = np.array(X)\n",
    "    y = np.array(y)\n",
    "    X = X.reshape(X.shape[0], 1, X.shape[1])\n",
    "    \n",
    "    model = Sequential()\n",
    "    model.add(Input(shape=(1, X.shape[2])))\n",
    "    model.add(LSTM(50, return_sequences=True))\n",
    "    model.add(LSTM(50))\n",
    "    model.add(Dense(1))\n",
    "    model.compile(optimizer='adam', loss='mean_squared_error')\n",
    "    model.fit(X, y, epochs=100, batch_size=1, verbose=0)\n",
    "    \n",
    "    last_value = count_values_scaled[-1].reshape(1, 1, 1)\n",
    "    predictions = []\n",
    "    \n",
    "    for _ in range(steps):\n",
    "        predicted_value = model.predict(last_value)\n",
    "        predictions.append(predicted_value[0][0])\n",
    "        last_value = np.array([predicted_value]).reshape(1, 1, 1)\n",
    "    \n",
    "    predictions = scaler.inverse_transform(np.array(predictions).reshape(-1, 1))\n",
    "    return predictions.flatten()\n"
   ]
  },
  {
   "cell_type": "markdown",
   "metadata": {},
   "source": [
    "## ETS"
   ]
  },
  {
   "cell_type": "code",
   "execution_count": 144,
   "metadata": {},
   "outputs": [],
   "source": [
    "def ets_predict(counts, steps=1):\n",
    "    count_values = [count for _, count in counts]\n",
    "    model = ExponentialSmoothing(count_values, trend='add', seasonal='add', seasonal_periods=12)\n",
    "    model_fit = model.fit(optimized=True)\n",
    "    forecast = model_fit.forecast(steps=steps)\n",
    "    return forecast\n"
   ]
  },
  {
   "cell_type": "markdown",
   "metadata": {},
   "source": [
    "## Prophet Implementation"
   ]
  },
  {
   "cell_type": "code",
   "execution_count": 132,
   "metadata": {},
   "outputs": [],
   "source": [
    "from prophet import Prophet\n",
    "\n",
    "def prophet_predict(counts, steps=1):\n",
    "    df = pd.DataFrame(counts, columns=['ds', 'y'])\n",
    "    df['ds'] = pd.to_datetime(df['ds'], unit='ms')\n",
    "    \n",
    "    model = Prophet()\n",
    "    model.fit(df)\n",
    "    \n",
    "    future = model.make_future_dataframe(periods=steps)\n",
    "    forecast = model.predict(future)\n",
    "    \n",
    "    return forecast['yhat'].tail(steps).values\n"
   ]
  },
  {
   "cell_type": "markdown",
   "metadata": {},
   "source": [
    "## GARCH"
   ]
  },
  {
   "cell_type": "code",
   "execution_count": 145,
   "metadata": {},
   "outputs": [],
   "source": [
    "def garch_predict(counts, steps=1):\n",
    "    count_values = np.array([count for _, count in counts])\n",
    "    count_values_rescaled = count_values * 0.0001  # Rescale the data\n",
    "    model = arch_model(count_values_rescaled, vol='Garch', p=1, q=1, rescale=False)\n",
    "    model_fit = model.fit(disp=\"off\")\n",
    "    forecast = model_fit.forecast(horizon=steps)\n",
    "    \n",
    "    return forecast.mean.values[-1] * 10000  # Re-adjust the scale of predictions\n"
   ]
  },
  {
   "cell_type": "markdown",
   "metadata": {},
   "source": [
    "## TBATS"
   ]
  },
  {
   "cell_type": "code",
   "execution_count": 134,
   "metadata": {},
   "outputs": [],
   "source": [
    "from tbats import TBATS\n",
    "\n",
    "def tbats_predict(counts, steps=1):\n",
    "    count_values = [count for _, count in counts]\n",
    "    model = TBATS()\n",
    "    model_fit = model.fit(count_values)\n",
    "    forecast = model_fit.forecast(steps=steps)\n",
    "    \n",
    "    return forecast\n"
   ]
  },
  {
   "cell_type": "markdown",
   "metadata": {},
   "source": [
    "## VAR"
   ]
  },
  {
   "cell_type": "code",
   "execution_count": 146,
   "metadata": {},
   "outputs": [],
   "source": [
    "def var_predict(counts, steps=1):\n",
    "    count_values = np.array([count for _, count in counts])\n",
    "    if count_values.ndim == 1:\n",
    "        raise ValueError(\"VAR requires multiple time series. Consider using ARIMA or SARIMA instead.\")\n",
    "    model = VAR(count_values)\n",
    "    model_fit = model.fit()\n",
    "    forecast = model_fit.forecast(count_values[-model_fit.k_ar:], steps=steps)\n",
    "    \n",
    "    return forecast.flatten()\n"
   ]
  },
  {
   "cell_type": "markdown",
   "metadata": {},
   "source": [
    "## XGBOSST"
   ]
  },
  {
   "cell_type": "code",
   "execution_count": 147,
   "metadata": {},
   "outputs": [],
   "source": [
    "import xgboost as xgb\n",
    "from sklearn.model_selection import train_test_split\n",
    "\n",
    "def xgboost_predict(counts, steps=1):\n",
    "    count_values = np.array([count for _, count in counts])\n",
    "    X = np.arange(len(count_values)).reshape(-1, 1)\n",
    "    y = count_values\n",
    "    \n",
    "    X_train, X_test, y_train, y_test = train_test_split(X, y, test_size=0.2, shuffle=False)\n",
    "    \n",
    "    model = xgb.XGBRegressor(objective='reg:squarederror', n_estimators=100)\n",
    "    model.fit(X_train, y_train)\n",
    "    \n",
    "    last_value = X[-1]\n",
    "    predictions = []\n",
    "    \n",
    "    for _ in range(steps):\n",
    "        last_value += 1\n",
    "        prediction = model.predict(last_value.reshape(-1, 1))\n",
    "        predictions.append(prediction[0])\n",
    "    \n",
    "    return np.array(predictions)\n"
   ]
  },
  {
   "cell_type": "markdown",
   "metadata": {},
   "source": [
    "## ARIMA"
   ]
  },
  {
   "cell_type": "code",
   "execution_count": 148,
   "metadata": {},
   "outputs": [],
   "source": [
    "from statsmodels.tsa.arima.model import ARIMA\n",
    "from statsmodels.tsa.statespace.sarimax import SARIMAX\n",
    "\n",
    "def arima_predict(counts, order, steps=1):\n",
    "    # Extract the count values\n",
    "    count_values = [count for _, count in counts]\n",
    "    \n",
    "    # Fit the ARIMA model\n",
    "    try:\n",
    "        model = ARIMA(count_values, order=order)\n",
    "        model_fit = model.fit()\n",
    "        forecast = model_fit.forecast(steps=steps)\n",
    "        return forecast\n",
    "    except Exception as e:\n",
    "        print(f\"Error fitting ARIMA model: {e}\")\n",
    "        return None"
   ]
  },
  {
   "cell_type": "markdown",
   "metadata": {},
   "source": [
    "## SARIMA"
   ]
  },
  {
   "cell_type": "code",
   "execution_count": 149,
   "metadata": {},
   "outputs": [],
   "source": [
    "\n",
    "\n",
    "def sarima_predict(counts, order, seasonal_order, steps=1):\n",
    "    # Extract the count values\n",
    "    count_values = [count for _, count in counts]\n",
    "    \n",
    "    # Fit the SARIMA model\n",
    "    try:\n",
    "        model = SARIMAX(count_values, order=order, seasonal_order=seasonal_order)\n",
    "        model_fit = model.fit()\n",
    "        forecast = model_fit.forecast(steps=steps)\n",
    "        return forecast\n",
    "    except Exception as e:\n",
    "        print(f\"Error fitting SARIMA model: {e}\")\n",
    "        return None\n"
   ]
  },
  {
   "cell_type": "markdown",
   "metadata": {},
   "source": [
    "# TEST"
   ]
  },
  {
   "cell_type": "code",
   "execution_count": 153,
   "metadata": {},
   "outputs": [],
   "source": [
    "import matplotlib.pyplot as plt\n",
    "from datetime import datetime\n",
    "\n",
    "def plot_predictions_for_track(track_name, counts_by_name, steps=5, arima_order=(5,1,0), sarima_order=(1,1,1,12), seasonal_order=(1,1,1,12)):\n",
    "    counts = counts_by_name[track_name]\n",
    "\n",
    "    # Convert Unix timestamps to datetime objects\n",
    "    log_times = [datetime.fromtimestamp(log_time / 1000) for log_time, _ in counts]\n",
    "    log_counts = [count for _, count in counts]\n",
    "\n",
    "    # Generate predictions from various models\n",
    "    try:\n",
    "        arima_forecast = arima_predict(counts, order=arima_order, steps=steps)\n",
    "    except Exception as e:\n",
    "        print(f\"Error fitting ARIMA model: {e}\")\n",
    "        arima_forecast = None\n",
    "\n",
    "    try:\n",
    "        sarima_forecast = sarima_predict(counts, order=sarima_order, seasonal_order=seasonal_order, steps=steps)\n",
    "    except Exception as e:\n",
    "        print(f\"Error fitting SARIMA model: {e}\")\n",
    "        sarima_forecast = None\n",
    "\n",
    "    try:\n",
    "        lstm_forecast = lstm_predict(counts, steps=steps)\n",
    "    except Exception as e:\n",
    "        print(f\"Error fitting LSTM model: {e}\")\n",
    "        lstm_forecast = None\n",
    "\n",
    "    try:\n",
    "        ets_forecast = ets_predict(counts, steps=steps)\n",
    "    except Exception as e:\n",
    "        print(f\"Error fitting ETS model: {e}\")\n",
    "        ets_forecast = None\n",
    "\n",
    "    try:\n",
    "        prophet_forecast = prophet_predict(counts, steps=steps)\n",
    "    except Exception as e:\n",
    "        print(f\"Error fitting Prophet model: {e}\")\n",
    "        prophet_forecast = None\n",
    "\n",
    "    try:\n",
    "        garch_forecast = garch_predict(counts, steps=steps)\n",
    "    except Exception as e:\n",
    "        print(f\"Error fitting GARCH model: {e}\")\n",
    "        garch_forecast = None\n",
    "\n",
    "    try:\n",
    "        tbats_forecast = tbats_predict(counts, steps=steps)\n",
    "    except Exception as e:\n",
    "        print(f\"Error fitting TBATS model: {e}\")\n",
    "        tbats_forecast = None\n",
    "\n",
    "    try:\n",
    "        xgboost_forecast = xgboost_predict(counts, steps=steps)\n",
    "    except Exception as e:\n",
    "        print(f\"Error fitting XGBoost model: {e}\")\n",
    "        xgboost_forecast = None\n",
    "\n",
    "    # Plot actual data\n",
    "    plt.figure(figsize=(14, 7))\n",
    "    plt.plot(log_times, log_counts, label='Actual', marker='o', color='black')\n",
    "\n",
    "    # Plot ARIMA predictions\n",
    "    if arima_forecast is not None:\n",
    "        plt.plot([log_times[-1] + pd.Timedelta(days=i) for i in range(1, steps+1)], arima_forecast, label='ARIMA', marker='o', color='blue')\n",
    "\n",
    "    # Plot SARIMA predictions\n",
    "    if sarima_forecast is not None:\n",
    "        plt.plot([log_times[-1] + pd.Timedelta(days=i) for i in range(1, steps+1)], sarima_forecast, label='SARIMA', marker='o', color='green')\n",
    "\n",
    "    # Plot LSTM predictions\n",
    "    if lstm_forecast is not None:\n",
    "        plt.plot([log_times[-1] + pd.Timedelta(days=i) for i in range(1, steps+1)], lstm_forecast, label='LSTM', marker='o', color='red')\n",
    "\n",
    "    # Plot ETS predictions\n",
    "    if ets_forecast is not None:\n",
    "        plt.plot([log_times[-1] + pd.Timedelta(days=i) for i in range(1, steps+1)], ets_forecast, label='ETS', marker='o', color='orange')\n",
    "\n",
    "    # Plot Prophet predictions\n",
    "    if prophet_forecast is not None:\n",
    "        plt.plot([log_times[-1] + pd.Timedelta(days=i) for i in range(1, steps+1)], prophet_forecast, label='Prophet', marker='o', color='purple')\n",
    "\n",
    "    # Plot GARCH predictions\n",
    "    if garch_forecast is not None:\n",
    "        plt.plot([log_times[-1] + pd.Timedelta(days=i) for i in range(1, steps+1)], garch_forecast, label='GARCH', marker='o', color='cyan')\n",
    "\n",
    "    # Plot TBATS predictions\n",
    "    if tbats_forecast is not None:\n",
    "        plt.plot([log_times[-1] + pd.Timedelta(days=i) for i in range(1, steps+1)], tbats_forecast, label='TBATS', marker='o', color='magenta')\n",
    "\n",
    "    # Plot XGBoost predictions\n",
    "    if xgboost_forecast is not None:\n",
    "        plt.plot([log_times[-1] + pd.Timedelta(days=i) for i in range(1, steps+1)], xgboost_forecast, label='XGBoost', marker='o', color='brown')\n",
    "\n",
    "    plt.title(f\"Predictions for {track_name}\")\n",
    "    plt.xlabel(\"Time\")\n",
    "    plt.ylabel(\"Counts\")\n",
    "    plt.legend()\n",
    "    plt.grid(True)\n",
    "    plt.xticks(rotation=45)\n",
    "    \n",
    "    plt.tight_layout()\n",
    "    plt.show()\n"
   ]
  },
  {
   "cell_type": "code",
   "execution_count": 154,
   "metadata": {},
   "outputs": [],
   "source": [
    "counts_by_name = group_logs_and_collect_counts(data)\n"
   ]
  },
  {
   "cell_type": "code",
   "execution_count": 159,
   "metadata": {},
   "outputs": [
    {
     "name": "stderr",
     "output_type": "stream",
     "text": [
      "c:\\Users\\User\\AppData\\Local\\Programs\\Python\\Python39\\lib\\site-packages\\statsmodels\\tsa\\statespace\\sarimax.py:966: UserWarning: Non-stationary starting autoregressive parameters found. Using zeros as starting parameters.\n",
      "  warn('Non-stationary starting autoregressive parameters'\n"
     ]
    },
    {
     "name": "stdout",
     "output_type": "stream",
     "text": [
      "Error fitting SARIMA model: `order` argument must be an iterable with three elements.\n",
      "\u001b[1m1/1\u001b[0m \u001b[32m━━━━━━━━━━━━━━━━━━━━\u001b[0m\u001b[37m\u001b[0m \u001b[1m0s\u001b[0m 225ms/step\n",
      "\u001b[1m1/1\u001b[0m \u001b[32m━━━━━━━━━━━━━━━━━━━━\u001b[0m\u001b[37m\u001b[0m \u001b[1m0s\u001b[0m 23ms/step\n",
      "\u001b[1m1/1\u001b[0m \u001b[32m━━━━━━━━━━━━━━━━━━━━\u001b[0m\u001b[37m\u001b[0m \u001b[1m0s\u001b[0m 18ms/step\n",
      "\u001b[1m1/1\u001b[0m \u001b[32m━━━━━━━━━━━━━━━━━━━━\u001b[0m\u001b[37m\u001b[0m \u001b[1m0s\u001b[0m 18ms/step\n",
      "\u001b[1m1/1\u001b[0m \u001b[32m━━━━━━━━━━━━━━━━━━━━\u001b[0m\u001b[37m\u001b[0m \u001b[1m0s\u001b[0m 21ms/step\n",
      "\u001b[1m1/1\u001b[0m \u001b[32m━━━━━━━━━━━━━━━━━━━━\u001b[0m\u001b[37m\u001b[0m \u001b[1m0s\u001b[0m 17ms/step\n",
      "\u001b[1m1/1\u001b[0m \u001b[32m━━━━━━━━━━━━━━━━━━━━\u001b[0m\u001b[37m\u001b[0m \u001b[1m0s\u001b[0m 19ms/step\n",
      "\u001b[1m1/1\u001b[0m \u001b[32m━━━━━━━━━━━━━━━━━━━━\u001b[0m\u001b[37m\u001b[0m \u001b[1m0s\u001b[0m 19ms/step\n",
      "\u001b[1m1/1\u001b[0m \u001b[32m━━━━━━━━━━━━━━━━━━━━\u001b[0m\u001b[37m\u001b[0m \u001b[1m0s\u001b[0m 20ms/step\n",
      "\u001b[1m1/1\u001b[0m \u001b[32m━━━━━━━━━━━━━━━━━━━━\u001b[0m\u001b[37m\u001b[0m \u001b[1m0s\u001b[0m 21ms/step\n",
      "\u001b[1m1/1\u001b[0m \u001b[32m━━━━━━━━━━━━━━━━━━━━\u001b[0m\u001b[37m\u001b[0m \u001b[1m0s\u001b[0m 19ms/step\n",
      "\u001b[1m1/1\u001b[0m \u001b[32m━━━━━━━━━━━━━━━━━━━━\u001b[0m\u001b[37m\u001b[0m \u001b[1m0s\u001b[0m 21ms/step\n",
      "\u001b[1m1/1\u001b[0m \u001b[32m━━━━━━━━━━━━━━━━━━━━\u001b[0m\u001b[37m\u001b[0m \u001b[1m0s\u001b[0m 16ms/step\n",
      "\u001b[1m1/1\u001b[0m \u001b[32m━━━━━━━━━━━━━━━━━━━━\u001b[0m\u001b[37m\u001b[0m \u001b[1m0s\u001b[0m 18ms/step\n",
      "\u001b[1m1/1\u001b[0m \u001b[32m━━━━━━━━━━━━━━━━━━━━\u001b[0m\u001b[37m\u001b[0m \u001b[1m0s\u001b[0m 19ms/step\n",
      "\u001b[1m1/1\u001b[0m \u001b[32m━━━━━━━━━━━━━━━━━━━━\u001b[0m\u001b[37m\u001b[0m \u001b[1m0s\u001b[0m 24ms/step\n",
      "\u001b[1m1/1\u001b[0m \u001b[32m━━━━━━━━━━━━━━━━━━━━\u001b[0m\u001b[37m\u001b[0m \u001b[1m0s\u001b[0m 20ms/step\n",
      "\u001b[1m1/1\u001b[0m \u001b[32m━━━━━━━━━━━━━━━━━━━━\u001b[0m\u001b[37m\u001b[0m \u001b[1m0s\u001b[0m 20ms/step\n",
      "\u001b[1m1/1\u001b[0m \u001b[32m━━━━━━━━━━━━━━━━━━━━\u001b[0m\u001b[37m\u001b[0m \u001b[1m0s\u001b[0m 18ms/step\n",
      "\u001b[1m1/1\u001b[0m \u001b[32m━━━━━━━━━━━━━━━━━━━━\u001b[0m\u001b[37m\u001b[0m \u001b[1m0s\u001b[0m 20ms/step\n"
     ]
    },
    {
     "name": "stderr",
     "output_type": "stream",
     "text": [
      "c:\\Users\\User\\AppData\\Local\\Programs\\Python\\Python39\\lib\\site-packages\\statsmodels\\tsa\\holtwinters\\model.py:918: ConvergenceWarning: Optimization failed to converge. Check mle_retvals.\n",
      "  warnings.warn(\n",
      "23:54:25 - cmdstanpy - INFO - Chain [1] start processing\n",
      "23:54:40 - cmdstanpy - INFO - Chain [1] done processing\n"
     ]
    },
    {
     "data": {
      "image/png": "[encoded data removed]",
      "text/plain": [
       "<Figure size 1008x504 with 1 Axes>"
      ]
     },
     "metadata": {
      "needs_background": "light"
     },
     "output_type": "display_data"
    }
   ],
   "source": [
    "plot_predictions_for_track(\"SHAH\", counts_by_name, steps=20)\n"
   ]
  },
  {
   "cell_type": "code",
   "execution_count": null,
   "metadata": {},
   "outputs": [],
   "source": []
  },
  {
   "cell_type": "code",
   "execution_count": null,
   "metadata": {},
   "outputs": [],
   "source": []
  }
 ],
 "metadata": {
  "kernelspec": {
   "display_name": "Python 3",
   "language": "python",
   "name": "python3"
  },
  "language_info": {
   "codemirror_mode": {
    "name": "ipython",
    "version": 3
   },
   "file_extension": ".py",
   "mimetype": "text/x-python",
   "name": "python",
   "nbconvert_exporter": "python",
   "pygments_lexer": "ipython3",
   "version": "3.9.5"
  }
 },
 "nbformat": 4,
 "nbformat_minor": 2
}
